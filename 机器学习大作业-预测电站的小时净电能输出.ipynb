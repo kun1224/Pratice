{
 "cells": [
  {
   "cell_type": "code",
   "execution_count": 9,
   "metadata": {},
   "outputs": [
    {
     "name": "stdout",
     "output_type": "stream",
     "text": [
      "weight = [-14.594  -3.069   0.347  -2.301]\n",
      "bais = 454.353\n"
     ]
    },
    {
     "data": {
      "image/png": "[encoded data removed]",
      "text/plain": [
       "<Figure size 432x288 with 1 Axes>"
      ]
     },
     "metadata": {
      "needs_background": "light"
     },
     "output_type": "display_data"
    }
   ],
   "source": [
    "#导入包\n",
    "from tkinter import W\n",
    "import pandas\n",
    "import numpy as np\n",
    "import matplotlib.pyplot as plt\n",
    "\n",
    "#设置参数\n",
    "iterations = 10000\n",
    "learning_rate = 0.01\n",
    "\n",
    "#读取数据\n",
    "\n",
    "ds=pandas.read_csv('Folds5x2_pp.csv')\n",
    "data = np.array(ds)\n",
    "m_all = ds.shape[0]\n",
    "d = ds.shape[1] - 1\n",
    "m_train = 7176\n",
    "m_test = m_all - m_train \n",
    "\n",
    "#特征缩放（标准化）\n",
    "mean = np.mean(data[0:m_train,:d],axis=0)\n",
    "\n",
    "std = np.std(data[0:m_train,:d],axis=0)\n",
    "data[:,:d] = (data[:,:d] - mean)/std\n",
    "\n",
    "\n",
    "\n",
    "#划分训练集与测试集\n",
    "rng = np.random.default_rng(1)\n",
    "rng.shuffle(data)\n",
    "\n",
    "train_x = data[0:m_train,0:4].T\n",
    "\n",
    "train_y = data[0:m_train,4].T\n",
    "\n",
    "test_x = data[m_train:m_all,:4].T\n",
    "test_y = data[m_train:m_all,4].T\n",
    "\n",
    "\n",
    "#初始化w,b,cost[]\n",
    "w = np.zeros((1,d)).T\n",
    "b = 0\n",
    "v = np.ones((1,m_train))\n",
    "costs_save = []\n",
    "\n",
    "\n",
    "#迭代\n",
    "for i in range(iterations):\n",
    "\n",
    "    y_hat = np.dot(w.T,train_x) + b*v\n",
    "    e = y_hat - train_y\n",
    "\n",
    "    w = w - 2*learning_rate*np.dot(train_x,e.T)/m_train\n",
    "    b = b - 2*learning_rate*np.dot(v,e.T)/m_train\n",
    "\n",
    "    cost = np.dot(e,e.T) / m_train\n",
    "    costs_save.append(cost.item(0))\n",
    "\n",
    "# 输出训练完成的w,b\n",
    "\n",
    "print(f'weight = {np.around(np.squeeze(w),3)}')\n",
    "print(f'bais = {np.around(np.squeeze(b),3)}')\n",
    "\n",
    "#画出代价函数随迭代次数的变化图\n",
    "plt.figure()\n",
    "plt.plot(range(1,iterations+1),costs_save,'r-o')\n",
    "plt.xlabel(\"iterations\")\n",
    "plt.ylabel(\"cost\")\n",
    "plt.title(\"Learning_rate = \" +str(learning_rate))\n",
    "\n",
    "plt.show()\n",
    "\n",
    "\n",
    "#计算训练集和测试集的RMSE\n",
    "\n",
    "\n",
    "\n",
    "#计算指标性能\n",
    "\n",
    "\n",
    "\n",
    "\n"
   ]
  }
 ],
 "metadata": {
  "kernelspec": {
   "display_name": "Python 3.9.12 ('base')",
   "language": "python",
   "name": "python3"
  },
  "language_info": {
   "codemirror_mode": {
    "name": "ipython",
    "version": 3
   },
   "file_extension": ".py",
   "mimetype": "text/x-python",
   "name": "python",
   "nbconvert_exporter": "python",
   "pygments_lexer": "ipython3",
   "version": "3.9.12"
  },
  "orig_nbformat": 4,
  "vscode": {
   "interpreter": {
    "hash": "2de64d48b397309e85ec6e005dc67bd86cbca9029b67c7a68e6c5e4c08605d48"
   }
  }
 },
 "nbformat": 4,
 "nbformat_minor": 2
}
